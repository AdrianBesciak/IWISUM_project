{
 "cells": [
  {
   "cell_type": "code",
   "execution_count": 1,
   "metadata": {},
   "outputs": [
    {
     "name": "stderr",
     "output_type": "stream",
     "text": [
      "/home/qbok/.local/lib/python3.10/site-packages/matplotlib/projections/__init__.py:63: UserWarning: Unable to import Axes3D. This may be due to multiple versions of Matplotlib being installed (e.g. as a system package and as a pip package). As a result, the 3D projection is not available.\n",
      "  warnings.warn(\"Unable to import Axes3D. This may be due to multiple versions of \"\n"
     ]
    }
   ],
   "source": [
    "import math\n",
    "from array import array\n",
    "from collections import deque\n",
    "from operator import itemgetter\n",
    "from typing import NamedTuple, TypedDict\n",
    "\n",
    "import gym\n",
    "import gymnasium\n",
    "import matplotlib.pyplot as plt\n",
    "import numpy as np\n",
    "import stable_baselines3 as sb3"
   ]
  },
  {
   "cell_type": "code",
   "execution_count": 2,
   "metadata": {},
   "outputs": [],
   "source": [
    "class F110Observation(TypedDict):\n",
    "    ego_idx: int\n",
    "    scans: list[array]\n",
    "    poses_x: list[float]\n",
    "    poses_y: list[float]\n",
    "    poses_theta: list[float]\n",
    "    linear_vels_x: list[float]\n",
    "    linear_vels_y: list[float]\n",
    "    ang_vels_z: list[float]\n",
    "    collisions: array\n",
    "    lap_times: array\n",
    "    lap_counts: array"
   ]
  },
  {
   "cell_type": "code",
   "execution_count": 3,
   "metadata": {},
   "outputs": [],
   "source": [
    "class F110EnvParams(NamedTuple):\n",
    "    vmin: float\n",
    "    vmax: float\n",
    "    smin: float\n",
    "    smax: float"
   ]
  },
  {
   "cell_type": "code",
   "execution_count": 4,
   "metadata": {},
   "outputs": [],
   "source": [
    "def rescale(value: np.ndarray, fr: tuple[float, float], to: tuple[float, float]) -> np.ndarray:\n",
    "    frrange, torange = fr[1] - fr[0], to[1] - to[0]\n",
    "    return (((value - fr[0]) * torange) / frrange) + to[0]"
   ]
  },
  {
   "cell_type": "code",
   "execution_count": 5,
   "metadata": {},
   "outputs": [],
   "source": [
    "class F110Wrapped(gymnasium.Wrapper):\n",
    "    def __init__(self, env: gym.Env, waypoints: np.ndarray):\n",
    "        super().__init__(env)\n",
    "\n",
    "        self._params = F110EnvParams(\n",
    "            *itemgetter(\"v_min\", \"v_max\", \"s_min\", \"s_max\")(env.params)\n",
    "        )\n",
    "\n",
    "        # self.action_space = gymnasium.spaces.Box(\n",
    "        #     low=np.array([params.vmin, params.smin]),\n",
    "        #     high=np.array([params.vmax, params.smax]),\n",
    "        #     dtype=float,\n",
    "        # )\n",
    "\n",
    "        self.action_space = gymnasium.spaces.Box(\n",
    "            low=np.array([-1.0, -1.0]),\n",
    "            high=np.array([1.0, 1.0]),\n",
    "            dtype=float,\n",
    "        )\n",
    "\n",
    "        self.observation_space = gymnasium.spaces.Box(\n",
    "            low=-1.0, high=1.0, shape=(1080,), dtype=float\n",
    "        )\n",
    "\n",
    "        self._point = 0\n",
    "        self._waypoints = waypoints\n",
    "\n",
    "\n",
    "    def step(self, action: np.ndarray) -> tuple[np.ndarray, float, bool, bool, dict]:\n",
    "        velocity = rescale(action[0], (self._params.vmin, self._params.vmax), (-1.0, 1.0))\n",
    "        angle = rescale(action[1], (self._params.smin, self._params.smax), (-1.0, 1.0))\n",
    "\n",
    "        obs, reward, done, info = self.env.step(np.array([[velocity, angle]]))\n",
    "        obs: F110Observation\n",
    "        trunc = False\n",
    "\n",
    "        # reward = 0.0\n",
    "        # prioritize velocity\n",
    "        velocity = math.hypot(obs[\"linear_vels_x\"][0], obs[\"linear_vels_y\"][0])\n",
    "        reward = max(np.log(velocity) * self.env.timestep, -1.0)\n",
    "\n",
    "        x, y = obs[\"poses_x\"][0], obs[\"poses_y\"][0]\n",
    "        wx, wy = self._waypoints[self._point][:2]\n",
    "        dist = np.hypot(x - wx, y - wy)\n",
    "\n",
    "        if dist < 2.0:\n",
    "            self._point += 1\n",
    "            reward += self._point / len(self._waypoints)\n",
    "\n",
    "        if self._point >= len(self._waypoints):\n",
    "            self._point = 0\n",
    "\n",
    "        # if (vang := abs(obs[\"ang_vels_z\"][0])) > 0.4:\n",
    "        #     reward -= vang\n",
    "\n",
    "        if abs(obs[\"poses_theta\"][0]) > math.pi / 6:\n",
    "            reward, done = -2.5, True\n",
    "\n",
    "        if obs[\"collisions\"][0]:\n",
    "            reward, done = -1.0, True\n",
    "\n",
    "        return (\n",
    "            rescale(obs[\"scans\"][0], (0.0, 30.0), (-1.0, 1.0)),\n",
    "            reward,\n",
    "            done,\n",
    "            trunc,\n",
    "            {**info, **obs},\n",
    "        )\n",
    "\n",
    "    def reset(self, seed=None) -> tuple[np.ndarray, dict]:\n",
    "        obs, info = self.env.reset(poses=np.array([[0.0, 0.0, 0.0]]))[::3]\n",
    "        self._point = 0\n",
    "        return obs[\"scans\"][0], info"
   ]
  },
  {
   "cell_type": "code",
   "execution_count": 6,
   "metadata": {},
   "outputs": [
    {
     "data": {
      "text/plain": [
       "(864, 4)"
      ]
     },
     "execution_count": 6,
     "metadata": {},
     "output_type": "execute_result"
    }
   ],
   "source": [
    "waypoints = np.genfromtxt('spielberg-waypoints.csv', delimiter=',')\n",
    "waypoints.shape"
   ]
  },
  {
   "cell_type": "code",
   "execution_count": 7,
   "metadata": {},
   "outputs": [
    {
     "name": "stderr",
     "output_type": "stream",
     "text": [
      "/usr/lib/python3/dist-packages/scipy/__init__.py:146: UserWarning: A NumPy version >=1.17.3 and <1.25.0 is required for this version of SciPy (detected version 1.26.3\n",
      "  warnings.warn(f\"A NumPy version >={np_minversion} and <{np_maxversion}\"\n",
      "/home/qbok/rossim/f1tenth_gym/gym/f110_gym/envs/base_classes.py:93: UserWarning: Chosen integrator is RK4. This is different from previous versions of the gym.\n",
      "  warnings.warn(f\"Chosen integrator is RK4. This is different from previous versions of the gym.\")\n"
     ]
    },
    {
     "data": {
      "text/plain": [
       "<f110_gym.envs.f110_env.F110Env at 0x7f562c7b33a0>"
      ]
     },
     "execution_count": 7,
     "metadata": {},
     "output_type": "execute_result"
    }
   ],
   "source": [
    "env = gym.make(\n",
    "    \"f110_gym:f110-v0\",\n",
    "    map=\"../../f1tenth_gym_ros/maps/spielberg\",\n",
    "    map_ext=\".png\",\n",
    "    num_agents=1,\n",
    ")\n",
    "env"
   ]
  },
  {
   "cell_type": "code",
   "execution_count": 8,
   "metadata": {},
   "outputs": [],
   "source": [
    "wrapped = F110Wrapped(env, waypoints)"
   ]
  },
  {
   "cell_type": "code",
   "execution_count": 9,
   "metadata": {},
   "outputs": [
    {
     "name": "stderr",
     "output_type": "stream",
     "text": [
      "/home/qbok/.local/lib/python3.10/site-packages/gymnasium/core.py:311: UserWarning: \u001b[33mWARN: env.render_mode to get variables from other wrappers is deprecated and will be removed in v1.0, to get this variable you can do `env.unwrapped.render_mode` for environment variables or `env.get_wrapper_attr('render_mode')` that will search the reminding wrappers.\u001b[0m\n",
      "  logger.warn(\n",
      "/home/qbok/.local/lib/python3.10/site-packages/stable_baselines3/common/vec_env/base_vec_env.py:77: UserWarning: The `render_mode` attribute is not defined in your environment. It will be set to None.\n",
      "  warnings.warn(\"The `render_mode` attribute is not defined in your environment. It will be set to None.\")\n"
     ]
    }
   ],
   "source": [
    "model = sb3.PPO(\n",
    "    \"MlpPolicy\",\n",
    "    wrapped,\n",
    "    # tensorboard_log=\"logs\",\n",
    "    learning_rate=0.001\n",
    ")"
   ]
  },
  {
   "cell_type": "code",
   "execution_count": 10,
   "metadata": {},
   "outputs": [
    {
     "data": {
      "text/plain": [
       "<stable_baselines3.ppo.ppo.PPO at 0x7f562c7b3d30>"
      ]
     },
     "execution_count": 10,
     "metadata": {},
     "output_type": "execute_result"
    }
   ],
   "source": [
    "model.learn(20000)"
   ]
  },
  {
   "cell_type": "code",
   "execution_count": 11,
   "metadata": {},
   "outputs": [],
   "source": [
    "model.save(\"f110-model.zip\")"
   ]
  },
  {
   "cell_type": "code",
   "execution_count": 12,
   "metadata": {},
   "outputs": [
    {
     "name": "stderr",
     "output_type": "stream",
     "text": [
      "/tmp/ipykernel_1462/2283742412.py:40: RuntimeWarning: divide by zero encountered in log\n",
      "  reward = max(np.log(velocity) * self.env.timestep, -1.0)\n",
      "/tmp/ipykernel_1462/2283742412.py:40: RuntimeWarning: divide by zero encountered in log\n",
      "  reward = max(np.log(velocity) * self.env.timestep, -1.0)\n"
     ]
    }
   ],
   "source": [
    "obs, states = wrapped.reset()\n",
    "rewards = []\n",
    "obss = []\n",
    "\n",
    "for i in range(250):\n",
    "    action, info = model.predict(obs)\n",
    "    obs, rew, done, trunc, info = wrapped.step([1.0, 0.0])\n",
    "\n",
    "    if done or trunc:\n",
    "        obs, states = wrapped.reset()\n",
    "\n",
    "    data = tuple(\n",
    "        map(\n",
    "            itemgetter(0),\n",
    "            itemgetter(\n",
    "                \"poses_x\",\n",
    "                \"poses_y\",\n",
    "                \"poses_theta\",\n",
    "                \"linear_vels_x\",\n",
    "                \"linear_vels_y\",\n",
    "                \"ang_vels_z\",\n",
    "            )(info),\n",
    "        )\n",
    "    )\n",
    "\n",
    "    obss.append(data)\n",
    "    rewards.append(rew)"
   ]
  },
  {
   "cell_type": "code",
   "execution_count": 13,
   "metadata": {},
   "outputs": [],
   "source": [
    "import pandas as pd\n",
    "\n",
    "COLS = [\n",
    "    \"X\",\n",
    "    \"Y\",\n",
    "    \"TH\",\n",
    "    \"VX\",\n",
    "    \"VY\",\n",
    "    \"VZ\",\n",
    "]"
   ]
  },
  {
   "cell_type": "code",
   "execution_count": 14,
   "metadata": {},
   "outputs": [
    {
     "data": {
      "text/plain": [
       "<Axes: >"
      ]
     },
     "execution_count": 14,
     "metadata": {},
     "output_type": "execute_result"
    },
    {
     "data": {
      "image/png": "[encoded data removed]",
      "text/plain": [
       "<Figure size 1152x720 with 1 Axes>"
      ]
     },
     "metadata": {
      "needs_background": "light"
     },
     "output_type": "display_data"
    }
   ],
   "source": [
    "pd.DataFrame(obss, columns=COLS).plot(figsize=(16, 10))"
   ]
  },
  {
   "cell_type": "code",
   "execution_count": 15,
   "metadata": {},
   "outputs": [
    {
     "data": {
      "text/plain": [
       "[<matplotlib.lines.Line2D at 0x7f55f5d298d0>]"
      ]
     },
     "execution_count": 15,
     "metadata": {},
     "output_type": "execute_result"
    },
    {
     "data": {
      "image/png": "[encoded data removed]",
      "text/plain": [
       "<Figure size 432x288 with 1 Axes>"
      ]
     },
     "metadata": {
      "needs_background": "light"
     },
     "output_type": "display_data"
    }
   ],
   "source": [
    "plt.plot(rewards)"
   ]
  }
 ],
 "metadata": {
  "kernelspec": {
   "display_name": "Python 3",
   "language": "python",
   "name": "python3"
  },
  "language_info": {
   "codemirror_mode": {
    "name": "ipython",
    "version": 3
   },
   "file_extension": ".py",
   "mimetype": "text/x-python",
   "name": "python",
   "nbconvert_exporter": "python",
   "pygments_lexer": "ipython3",
   "version": "3.10.12"
  }
 },
 "nbformat": 4,
 "nbformat_minor": 2
}
